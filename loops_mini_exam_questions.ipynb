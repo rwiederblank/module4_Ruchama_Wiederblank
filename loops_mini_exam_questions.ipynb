{
  "cells": [
    {
      "cell_type": "markdown",
      "id": "6e143f87",
      "metadata": {
        "id": "6e143f87"
      },
      "source": [
        "# Intro Loops Mini‑Exam — All Coding (5 Questions)\n",
        "**Topics:** `for`, `while`, `range`, `break`, `continue`, basic `if/else`, optional `try/except`\n",
        "\n",
        "### Rules\n",
        "- Use `range` where helpful.\n",
        "- **Do not use** `enumerate`, list comprehensions, or **nested loops**.\n",
        "- You may use simple `try/except` for input validation where the prompt asks for it.\n",
        "- Keep code clear and commented (brief intent comments are enough).\n",
        "\n",
        "### What to Submit\n",
        "- Complete the five problems below in the provided code cells.\n",
        "- Do **not** modify the problem statements.\n",
        "- Run each cell to ensure it executes (no crashes on valid inputs).\n",
        "\n",
        "### Academic Honesty\n",
        "- Write your own code. Keep solutions simple and readable.\n"
      ]
    },
    {
      "cell_type": "markdown",
      "id": "b26ce537",
      "metadata": {
        "id": "b26ce537"
      },
      "source": [
        "## 1) Count Up (for + range)\n",
        "Ask the user for a **positive integer `n`**. Print the numbers **1..n** on **one line** separated by spaces.\n",
        "- Use a `for` loop with `range`.\n",
        "- If the input isn’t a positive integer, print a friendly error and stop.\n"
      ]
    },
    {
      "cell_type": "code",
      "execution_count": 3,
      "id": "238370a9",
      "metadata": {
        "id": "238370a9",
        "problem": 1,
        "colab": {
          "base_uri": "https://localhost:8080/"
        },
        "outputId": "015ec19d-21e5-4447-ec52-20472e1d848b"
      },
      "outputs": [
        {
          "output_type": "stream",
          "name": "stdout",
          "text": [
            "Enter a positive integer: 7\n",
            "1 2 3 4 5 6 7 \n"
          ]
        }
      ],
      "source": [
        "def count_up():\n",
        "    numbers = \"\"\n",
        "    try:\n",
        "        positive_num = int(input('Enter a positive integer: '))\n",
        "        # makes sure the integer is positive\n",
        "        if positive_num <= 0:\n",
        "            print('Please enter a positive integer. ')\n",
        "            raise ValueError\n",
        "    except ValueError:\n",
        "        print('Invalid input. ')\n",
        "\n",
        "    # loops through all the numbers through positive_num (inclusive)\n",
        "    for num in range(positive_num):\n",
        "        # adds the numbers to a string\n",
        "        numbers = numbers + str(num + 1) + \" \"\n",
        "    print(numbers)\n",
        "\n",
        "count_up()\n"
      ]
    },
    {
      "cell_type": "markdown",
      "id": "2afee823",
      "metadata": {
        "id": "2afee823"
      },
      "source": [
        "## 2) Sum of Squares (for)\n",
        "Ask for a **positive integer `n`**. Compute and print **`1^2 + 2^2 + … + n^2`**.\n",
        "- Use a `for` loop.\n",
        "- Validate input (print an error and stop if invalid).\n"
      ]
    },
    {
      "cell_type": "code",
      "execution_count": 4,
      "id": "0f0ed988",
      "metadata": {
        "id": "0f0ed988",
        "problem": 2,
        "colab": {
          "base_uri": "https://localhost:8080/"
        },
        "outputId": "ac8fa5e3-2c67-4719-c88e-59d554add0e9"
      },
      "outputs": [
        {
          "output_type": "stream",
          "name": "stdout",
          "text": [
            "Enter a positive integer: 14\n",
            "1015\n"
          ]
        }
      ],
      "source": [
        "def sum_of_squares():\n",
        "    total = 0\n",
        "    try:\n",
        "        positive_num = int(input('Enter a positive integer: '))\n",
        "        # makes sure the integer is positive\n",
        "        if positive_num <= 0:\n",
        "            print('Please enter a positive integer. ')\n",
        "            raise ValueError\n",
        "    except ValueError:\n",
        "        print('Invalid input. ')\n",
        "    for num in range(positive_num + 1):\n",
        "        total += (num*num)\n",
        "    print(total)\n",
        "\n",
        "sum_of_squares()"
      ]
    },
    {
      "cell_type": "markdown",
      "id": "13dd0fd1",
      "metadata": {
        "id": "13dd0fd1"
      },
      "source": [
        "## 3) Min/Max with “done” (while + try/except)\n",
        "Repeatedly read integers until the user types **`done`**. Ignore invalid entries with a warning.\n",
        "At the end:\n",
        "- If at least one valid number was entered, print `min = ___, max = ___`.\n",
        "- Otherwise print `No numbers entered.`\n",
        "- Use a `while True:` loop and `break` on `'done'`.\n"
      ]
    },
    {
      "cell_type": "code",
      "execution_count": 8,
      "id": "e8afc3b3",
      "metadata": {
        "id": "e8afc3b3",
        "problem": 3,
        "colab": {
          "base_uri": "https://localhost:8080/"
        },
        "outputId": "7cc0930c-5693-421d-f005-4acd78ae269f"
      },
      "outputs": [
        {
          "output_type": "stream",
          "name": "stdout",
          "text": [
            "Enter an integer: -5\n",
            "Enter an integer: 6\n",
            "Enter an integer: 2\n",
            "Enter an integer: 34\n",
            "Enter an integer: -9\n",
            "Enter an integer: done\n",
            "min = -9\n",
            "max = 34\n"
          ]
        }
      ],
      "source": [
        "def min_max():\n",
        "    min = 0\n",
        "    max = 0\n",
        "    count = 0\n",
        "    while True:\n",
        "        try:\n",
        "            num = input('Enter an integer: ')\n",
        "            # check if the user entered 'done'\n",
        "            if num.lower() == 'done':\n",
        "                break\n",
        "            else:\n",
        "                num = int(num)\n",
        "        except ValueError:\n",
        "            print('Invalid input. Enter an integer')\n",
        "        # checks if the new value is the new min or max\n",
        "        if num < min or count == 0:\n",
        "            min = num\n",
        "        if num > max or max == 0:\n",
        "            max = num\n",
        "        count += 1\n",
        "    # checks if the user entered more than one number\n",
        "    if count > 0:\n",
        "        print(f'min = {min}')\n",
        "        print(f'max = {max}')\n",
        "    else:\n",
        "        print('No numbers entered. ')\n",
        "\n",
        "\n",
        "min_max()\n"
      ]
    },
    {
      "cell_type": "markdown",
      "id": "950eed12",
      "metadata": {
        "id": "950eed12"
      },
      "source": [
        "## 4) Skip & Stop (for + continue/break)\n",
        "Ask for a **positive integer `n`** (upper bound).\n",
        "- Loop from **1..n**.\n",
        "- **Skip** (do not print) numbers that are multiples of **4** using `continue`.\n",
        "- If you reach **42**, **print 42 and then stop** the loop using `break`.\n",
        "- Each printed number goes on its own line.\n",
        "- Validate input; print an error and stop if invalid.\n"
      ]
    },
    {
      "cell_type": "code",
      "execution_count": 9,
      "id": "cfd13035",
      "metadata": {
        "id": "cfd13035",
        "problem": 4,
        "colab": {
          "base_uri": "https://localhost:8080/"
        },
        "outputId": "a2c5f860-9033-4817-96f6-505ff2e9887b"
      },
      "outputs": [
        {
          "output_type": "stream",
          "name": "stdout",
          "text": [
            "Enter a positive integer: 87\n",
            "1\n",
            "2\n",
            "3\n",
            "5\n",
            "6\n",
            "7\n",
            "9\n",
            "10\n",
            "11\n",
            "13\n",
            "14\n",
            "15\n",
            "17\n",
            "18\n",
            "19\n",
            "21\n",
            "22\n",
            "23\n",
            "25\n",
            "26\n",
            "27\n",
            "29\n",
            "30\n",
            "31\n",
            "33\n",
            "34\n",
            "35\n",
            "37\n",
            "38\n",
            "39\n",
            "41\n",
            "42\n"
          ]
        }
      ],
      "source": [
        "def skip_and_stop():\n",
        "    try:\n",
        "        positive_num = int(input('Enter a positive integer: '))\n",
        "        # makes sure the integer is positive\n",
        "        if positive_num <= 0:\n",
        "            print('Please enter a positive integer. ')\n",
        "            raise ValueError\n",
        "    except ValueError:\n",
        "        print('Invalid input. ')\n",
        "\n",
        "    # loops through every number from 1 until positive_num (inclusive)\n",
        "    for num in range(positive_num + 1):\n",
        "        # checks if the number is a multiple of 4\n",
        "        if num % 4 == 0:\n",
        "            continue\n",
        "        else:\n",
        "            print(num)\n",
        "            if num == 42:\n",
        "                break\n",
        "\n",
        "skip_and_stop()\n"
      ]
    },
    {
      "cell_type": "markdown",
      "id": "34d640d5",
      "metadata": {
        "id": "34d640d5"
      },
      "source": [
        "## 5) Even Sum with Entry Limit (while + try/except)\n",
        "Ask for a **target count `k`** (how many entries to read). Then read up to `k` user inputs (one per loop).\n",
        "- Convert each to `int` with `try/except`.\n",
        "- Keep a running **sum of even numbers only** (ignore odds and invalid entries).\n",
        "- After `k` inputs, print `even_sum = ___, valid_evens = ___`.\n",
        "- If `k` isn’t a positive integer, print an error and stop.\n"
      ]
    },
    {
      "cell_type": "code",
      "execution_count": 10,
      "id": "a7717a90",
      "metadata": {
        "id": "a7717a90",
        "problem": 5,
        "colab": {
          "base_uri": "https://localhost:8080/"
        },
        "outputId": "11e39395-c130-4490-9914-f549780affaa"
      },
      "outputs": [
        {
          "output_type": "stream",
          "name": "stdout",
          "text": [
            "How many entries: 6\n",
            "Enter a number: 3\n",
            "Enter a number: 4\n",
            "Enter a number: 5\n",
            "Enter a number: 6\n",
            "Enter a number: 7\n",
            "Enter a number: 8\n",
            "even sum = 18, valid_evens = 3\n"
          ]
        }
      ],
      "source": [
        "def even_sum():\n",
        "    even_sum = 0\n",
        "    even_count = 0\n",
        "    count = 0\n",
        "    try:\n",
        "        entry_limit = int(input('How many entries: '))\n",
        "        # checks if the number is positive\n",
        "        if entry_limit <= 0:\n",
        "            print('Must be a positive integer. ')\n",
        "            raise ValueError\n",
        "    except ValueError:\n",
        "        print('Invalid input. ')\n",
        "\n",
        "    # asks for input until the target input was reached\n",
        "    while count < entry_limit:\n",
        "        try:\n",
        "            num = int(input('Enter a number: '))\n",
        "        except ValueError:\n",
        "            print('Invalid input. Please enter an integer. ')\n",
        "        else:\n",
        "            count += 1\n",
        "            # checks if the number is even\n",
        "            if num % 2 == 0:\n",
        "                even_sum += num\n",
        "                even_count += 1\n",
        "    print(f'even sum = {even_sum}, valid_evens = {even_count}')\n",
        "\n",
        "\n",
        "even_sum()\n"
      ]
    },
    {
      "cell_type": "markdown",
      "source": [
        "## 6)  How long did you work on this quiz ? Was this quiz : hard, easy, just right ?"
      ],
      "metadata": {
        "id": "m9THXy-oU-Ud"
      },
      "id": "m9THXy-oU-Ud"
    },
    {
      "cell_type": "markdown",
      "source": [
        "Answer here :\n",
        "This quiz took me 41 minutes to complete.\n",
        "This quiz was easier for me than the last one and easier for me than the module 4 homework but I still had to think about solutions and do some trial and error. It was also easier for me since it was not timed, so I was not working under pressure.  I think it was just right. Thank you so much!"
      ],
      "metadata": {
        "id": "IzQbO93tVKDv"
      },
      "id": "IzQbO93tVKDv"
    }
  ],
  "metadata": {
    "kernelspec": {
      "display_name": "Python 3",
      "language": "python",
      "name": "python3"
    },
    "language_info": {
      "name": "python"
    },
    "colab": {
      "provenance": []
    }
  },
  "nbformat": 4,
  "nbformat_minor": 5
}