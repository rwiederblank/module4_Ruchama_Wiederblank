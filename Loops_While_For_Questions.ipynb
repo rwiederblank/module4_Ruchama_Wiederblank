{
  "cells": [
    {
      "cell_type": "markdown",
      "id": "7d25b115",
      "metadata": {
        "id": "7d25b115"
      },
      "source": [
        "\n",
        "# While & For Mastery — Syntax, Patterns, and Programs\n",
        "\n",
        "**Name:**  Ruchama Wiederblank\n",
        "**Course:** Programming I\n",
        "**Date:** 2025-10-03\n",
        "\n",
        "**Learning goals**\n",
        "- Reintroduce the **syntax** and core **patterns** for `while` and `for` loops.\n",
        "- Use loops with **decision structures** (`if/elif/else`) and **`try/except`** for input validation.\n",
        "- Write non-trivial programs that require **reasoning**, not just template filling.\n",
        "- Practice **PEP 8** style: naming, whitespace, docstrings, and helpful comments. - SO PLEASE DO PEP 8 ASSIGNMENT FIRST\n",
        "\n",
        "\n",
        "**IDE usage**\n",
        "- Feel free to work within an IDE (PyCharm or IDLE) if you feel more comfortable, copying and pasting the answers here"
      ]
    },
    {
      "cell_type": "markdown",
      "source": [],
      "metadata": {
        "id": "co4zaM_oHdBi"
      },
      "id": "co4zaM_oHdBi"
    },
    {
      "cell_type": "markdown",
      "id": "02124153",
      "metadata": {
        "id": "02124153"
      },
      "source": [
        "\n",
        "## Part 0 — Quick Reference (Read & Run)\n",
        "\n",
        "### `for` loop (iterate over a sequence)\n",
        "```python\n",
        "for item in iterable:\n",
        "    # do something with item\n",
        "```\n",
        "\n",
        "### `while` loop (repeat until a condition changes)\n",
        "```python\n",
        "while condition:\n",
        "    # body\n",
        "```\n",
        "\n",
        "### Useful keywords\n",
        "- `break` — exit the nearest loop immediately  \n",
        "- `continue` — skip to next iteration  \n",
        "- `else` on loops — runs if the loop **didn't** `break`\n"
      ]
    },
    {
      "cell_type": "markdown",
      "id": "884708c5",
      "metadata": {
        "id": "884708c5"
      },
      "source": [
        "\n",
        "## Demo 1 — `for` Loop Fundamentals\n",
        "- Iterating lists/strings\n",
        "- Using `range(start, stop, step)`\n",
        "- Tracking indices with `enumerate`\n"
      ]
    },
    {
      "cell_type": "code",
      "execution_count": 1,
      "id": "a9210b06",
      "metadata": {
        "id": "a9210b06",
        "colab": {
          "base_uri": "https://localhost:8080/"
        },
        "outputId": "a92ed4be-095c-4446-c7a9-4c95d2986770"
      },
      "outputs": [
        {
          "output_type": "stream",
          "name": "stdout",
          "text": [
            "KOL\n",
            "NIDRE\n",
            "TEFILAH\n",
            "---\n",
            "2 4 6 8 10 \n",
            "---\n",
            "0: kol\n",
            "1: nidre\n",
            "2: tefilah\n"
          ]
        }
      ],
      "source": [
        "\n",
        "words = [\"kol\", \"nidre\", \"tefilah\"]\n",
        "\n",
        "# Basic iteration\n",
        "for w in words:\n",
        "    print(w.upper())\n",
        "\n",
        "print(\"---\")\n",
        "\n",
        "# Ranges\n",
        "for k in range(2, 11, 2):\n",
        "    print(k, end=\" \")\n",
        "print(\"\\n---\")\n",
        "\n",
        "# Enumerate for index + value\n",
        "for i, w in enumerate(words):\n",
        "    print(f\"{i}: {w}\")\n"
      ]
    },
    {
      "cell_type": "markdown",
      "id": "872c060a",
      "metadata": {
        "id": "872c060a"
      },
      "source": [
        "\n",
        "## Demo 2 — `while` Loop Fundamentals\n",
        "- Sentinel loops (stop when user types `done`)\n",
        "- Guarded updates to prevent infinite loops\n"
      ]
    },
    {
      "cell_type": "code",
      "execution_count": 2,
      "id": "a16ab540",
      "metadata": {
        "id": "a16ab540",
        "colab": {
          "base_uri": "https://localhost:8080/"
        },
        "outputId": "3ea56dc7-2591-4296-f49c-095067bb6042"
      },
      "outputs": [
        {
          "output_type": "stream",
          "name": "stdout",
          "text": [
            "Enter a number (or 'done'): 67\n",
            "Enter a number (or 'done'): 89\n",
            "Enter a number (or 'done'): 10\n",
            "Enter a number (or 'done'): -4\n",
            "Enter a number (or 'done'): 0\n",
            "Enter a number (or 'done'): done\n",
            "Average: 32.4\n"
          ]
        }
      ],
      "source": [
        "\n",
        "# Sentinel-controlled input loop\n",
        "# Type numbers; type 'done' to stop. We sum only valid numbers.\n",
        "total = 0.0\n",
        "count = 0\n",
        "\n",
        "while True:\n",
        "    raw = input(\"Enter a number (or 'done'): \").strip().lower()\n",
        "    if raw == \"done\":\n",
        "        break\n",
        "    try:\n",
        "        num = float(raw)\n",
        "    except ValueError:\n",
        "        print(\"Not a number — try again.\")\n",
        "        continue\n",
        "    total += num\n",
        "    count += 1\n",
        "\n",
        "if count > 0:\n",
        "    print(\"Average:\", total / count)\n",
        "else:\n",
        "    print(\"No numbers entered.\")\n"
      ]
    },
    {
      "cell_type": "markdown",
      "id": "4f729477",
      "metadata": {
        "id": "4f729477"
      },
      "source": [
        "\n",
        "## Demo 3 — Try/Except + Decisions in Loops\n",
        "- Validate input in a loop\n",
        "- Use `if/elif/else` for branching behavior\n"
      ]
    },
    {
      "cell_type": "code",
      "execution_count": 3,
      "id": "ef5f1557",
      "metadata": {
        "id": "ef5f1557",
        "colab": {
          "base_uri": "https://localhost:8080/"
        },
        "outputId": "05a1b69c-184d-40ee-91af-183d82391f18"
      },
      "outputs": [
        {
          "output_type": "stream",
          "name": "stdout",
          "text": [
            "Pick an integer from 1 to 10: 78\n",
            "Out of range.\n",
            "Pick an integer from 1 to 10: 6\n",
            "Thanks! You chose: 6\n"
          ]
        }
      ],
      "source": [
        "\n",
        "# Ask for an integer 1..10 with limited attempts.\n",
        "MAX_ATTEMPTS = 3\n",
        "attempts = 0\n",
        "value = None\n",
        "\n",
        "while attempts < MAX_ATTEMPTS:\n",
        "    try:\n",
        "        guess = int(input(\"Pick an integer from 1 to 10: \"))\n",
        "    except ValueError:\n",
        "        print(\"Please enter an integer.\")\n",
        "        attempts += 1\n",
        "        continue\n",
        "\n",
        "    if 1 <= guess <= 10:\n",
        "        value = guess\n",
        "        print(\"Thanks! You chose:\", value)\n",
        "        break\n",
        "    else:\n",
        "        print(\"Out of range.\")\n",
        "        attempts += 1\n",
        "\n",
        "if value is None:\n",
        "    print(\"No valid choice made. Exiting.\")\n"
      ]
    },
    {
      "cell_type": "markdown",
      "id": "4a3c313f",
      "metadata": {
        "id": "4a3c313f"
      },
      "source": [
        "\n",
        "## Patterns & Pitfalls\n",
        "- Prefer `for` for known collections/ranges; `while` for open-ended/state-driven loops.\n",
        "- Always **advance the loop state** in a `while` (avoid infinite loops).\n",
        "- Use **sentinels** like `'done'` to end user input.\n",
        "- Extract **helpers** with docstrings for single-purpose blocks.\n",
        "- Keep lines ≤ 79–99 characters and space around operators appropriately.\n"
      ]
    },
    {
      "cell_type": "markdown",
      "id": "05823ceb",
      "metadata": {
        "id": "05823ceb"
      },
      "source": [
        "\n",
        "## Program 1 — Running Statistics (Sentinel + Validation)\n",
        "\n",
        "**Write:** `stats_loop()` that repeatedly reads numbers from the user until they type `'done'`.  \n",
        "- Use `try/except` to validate input. Ignore invalid entries (warn and continue).  \n",
        "- Track **count, min, max, sum, average**.  \n",
        "- At the end, print a one-line summary like:  \n",
        "  `count=5 min=2.0 max=14.5 sum=33.0 avg=6.6`\n",
        "\n",
        "**Requirements:**\n",
        "- Use a **while loop** with a sentinel.\n",
        "- Use at least one **decision structure** (`if/elif/else`).\n",
        "- Follow **PEP 8** for naming, spacing, and comments.\n"
      ]
    },
    {
      "cell_type": "code",
      "execution_count": 4,
      "id": "bc2b0125",
      "metadata": {
        "id": "bc2b0125",
        "colab": {
          "base_uri": "https://localhost:8080/"
        },
        "outputId": "29b988d3-2cf1-4a82-f20a-73f5e081b0a0"
      },
      "outputs": [
        {
          "output_type": "stream",
          "name": "stdout",
          "text": [
            "Enter a number (or 'done'): 34\n",
            "Enter a number (or 'done'): -56\n",
            "Enter a number (or 'done'): 78\n",
            "Enter a number (or 'done'): -25\n",
            "Enter a number (or 'done'): 5\n",
            "Enter a number (or 'done'): 35\n",
            "Enter a number (or 'done'): 22\n",
            "Enter a number (or 'done'): 0\n",
            "Enter a number (or 'done'): done\n",
            "count = 8, min = -56.0, max = 78.0, sum = 93.0, average = 11.625\n"
          ]
        }
      ],
      "source": [
        "\n",
        "\n",
        "def stats_loop():\n",
        "    total = 0.0\n",
        "    count = 0\n",
        "    min_num = None\n",
        "    max_num = None\n",
        "\n",
        "    while True:\n",
        "        raw = input(\"Enter a number (or 'done'): \").strip().lower()\n",
        "        if raw == \"done\":\n",
        "            break\n",
        "        try:\n",
        "            num = float(raw)\n",
        "        except ValueError:\n",
        "            print(\"Not a number — try again.\")\n",
        "            continue\n",
        "        total += num\n",
        "        count += 1\n",
        "        if min_num is None or num < min_num:  # checking if the number is less than the current min_num\n",
        "            min_num = num\n",
        "        if max_num is None or num > max_num: # checking if the value is greater than the current max_num\n",
        "            max_num = num\n",
        "    if count == 0:\n",
        "        print('No numbers entered. ')\n",
        "    else:\n",
        "       avg = total / count # calculating the average\n",
        "       print(f'count = {count}, min = {min_num}, max = {max_num}, sum = {total}, average = {avg}')\n",
        "\n",
        "\n",
        "stats_loop()"
      ]
    },
    {
      "cell_type": "markdown",
      "id": "cc1cb2cf",
      "metadata": {
        "id": "cc1cb2cf"
      },
      "source": [
        "\n",
        "## Program 2 — Password Attempts (Decisions + While)\n",
        "\n",
        "**Write:** `login_sim(correct_password: str, max_attempts: int = 3)`  \n",
        "- Prompt until the user enters the correct password or attempts are exhausted.  \n",
        "- Enforce a **policy**: at least 8 chars, contains a digit and a letter.  \n",
        "- Provide **specific feedback** for failures using `if/elif/else`.  \n",
        "- Use `try/except` only if you choose to add extra parsing; the main need here is decisions + while.\n",
        "\n",
        "**Tip:** Put the policy check in a **helper function** with a docstring.\n"
      ]
    },
    {
      "cell_type": "code",
      "execution_count": 5,
      "id": "cf5e5e3d",
      "metadata": {
        "id": "cf5e5e3d",
        "colab": {
          "base_uri": "https://localhost:8080/"
        },
        "outputId": "8d934596-de87-4a5b-9150-c87d9c0e872b"
      },
      "outputs": [
        {
          "output_type": "stream",
          "name": "stdout",
          "text": [
            "Password meets requirements\n",
            "Enter password guess: Hello123\n",
            "Password meets requirements\n",
            "Incorrect password.\n",
            "Enter password guess: Hello456\n",
            "Password meets requirements\n",
            "Correct Password. Access granted.\n"
          ]
        }
      ],
      "source": [
        "def policy_check(password: str):\n",
        "    letters = 0\n",
        "    numbers = 0\n",
        "    if len(password) < 8:\n",
        "        print('Password not allowed, less than 8 characters')\n",
        "        return False\n",
        "    for character in range(len(password)):\n",
        "        if password[character].isdigit():\n",
        "            numbers += 1\n",
        "        else:\n",
        "            letters += 1\n",
        "    if numbers >= 1 and letters >= 1:\n",
        "        print('Password meets requirements')\n",
        "        return True\n",
        "    else:\n",
        "        print('Password not allowed, it must have one letter and one number in it.')\n",
        "        return False\n",
        "\n",
        "\n",
        "def login_sim(correct_password: str, max_attempts: int = 3):\n",
        "    attempts = 0\n",
        "\n",
        "    if not policy_check(correct_password):\n",
        "        return 'Correct password must meet requirements (8 letters long, 1 letter, 1 number)'\n",
        "    while attempts < max_attempts:\n",
        "        try:\n",
        "            guess = input('Enter password guess: ')\n",
        "            if not policy_check(guess):\n",
        "                raise ValueError\n",
        "        except ValueError:\n",
        "            print(\"Password must be 8 letters long, contain 1 number and 1 letter. \")\n",
        "            attempts += 1\n",
        "            continue\n",
        "\n",
        "        if guess == correct_password:\n",
        "            return 'Correct Password. Access granted.'\n",
        "        else:\n",
        "            print(\"Incorrect password.\")\n",
        "            attempts += 1\n",
        "            continue\n",
        "    return 'Out of guesses. Access denied.'\n",
        "\n",
        "\n",
        "print(login_sim('Hello456', 2))\n",
        "\n",
        "\n",
        "\n"
      ]
    },
    {
      "cell_type": "markdown",
      "id": "9efbc851",
      "metadata": {
        "id": "9efbc851"
      },
      "source": [
        "\n",
        "## Program 3 — Collatz Analyzer (While + Decisions)\n",
        "\n",
        "**Write:** `collatz_steps(n: int) -> int` that returns the number of steps to reach 1 using the Collatz rules:  \n",
        "- If `n` is even, `n = n // 2`  \n",
        "- Else `n = 3*n + 1`\n",
        "\n",
        "**Then write:** `collatz_report(start: int, stop: int)` that prints the number between `start` and `stop` (inclusive) with the **maximum** steps and the step count.\n",
        "\n",
        "**Requirements:**\n",
        "- Input validation with `try/except` in a wrapper `main()` that reads `start` and `stop` from the user.\n",
        "- Use a **for** loop in `collatz_report`; use a **while** loop in `collatz_steps`.\n",
        "- Use decisions appropriately.\n"
      ]
    },
    {
      "cell_type": "code",
      "execution_count": 7,
      "id": "6e7a622e",
      "metadata": {
        "id": "6e7a622e",
        "colab": {
          "base_uri": "https://localhost:8080/"
        },
        "outputId": "10fdd282-5af6-4560-83f6-3e683c333534"
      },
      "outputs": [
        {
          "output_type": "stream",
          "name": "stdout",
          "text": [
            "Please enter the starting value: 13\n",
            "Please enter the stopping value: 45\n",
            "The number with the most steps is 41 with 109 steps.\n"
          ]
        }
      ],
      "source": [
        "def collatz_steps(n: int):\n",
        "    steps = 0\n",
        "    while n != 1:\n",
        "        if n % 2 == 0:\n",
        "            n = n // 2\n",
        "            steps += 1\n",
        "        else:\n",
        "            n = 3*n + 1\n",
        "            steps += 1\n",
        "    return steps\n",
        "\n",
        "\n",
        "def collatz_report(start: int, stop: int):\n",
        "    max_steps = None\n",
        "    num_max_steps = 0\n",
        "    for num in range(start, stop+1):\n",
        "        num_steps = collatz_steps(num)\n",
        "        if max_steps is None or num_steps > max_steps:\n",
        "            num_max_steps = num_steps\n",
        "            max_steps = num\n",
        "    print(f'The number with the most collatz steps is {max_steps} with {num_max_steps} steps.')\n",
        "\n",
        "\n",
        "def main():\n",
        "    try:\n",
        "        start = int(input('Please enter the starting value: '))\n",
        "        stop = int(input('Please enter the stopping value: '))\n",
        "\n",
        "        if start >= stop:\n",
        "            print('The stopping value must be greater than the starting value.')\n",
        "            raise ValueError\n",
        "    except ValueError:\n",
        "        print('Invalid input. Must be an integer.')\n",
        "    else:\n",
        "        collatz_report(start, stop)\n",
        "\n",
        "main()\n",
        "\n",
        "\n"
      ]
    },
    {
      "cell_type": "markdown",
      "id": "c2ec00e1",
      "metadata": {
        "id": "c2ec00e1"
      },
      "source": [
        "\n",
        "## Program 4 — Grid Count (Nested Loops + Decisions)\n",
        "\n",
        "**Write:** `count_neighbors(grid: list[list[int]], r: int, c: int) -> int` that counts how many **non-zero** neighbors a cell has in the 8 surrounding positions.\n",
        "\n",
        "**Then:** `live_ratio(grid)` returns the ratio of non-zero cells to total cells.\n",
        "\n",
        "**Requirements:**\n",
        "- Use **nested `for` loops**.\n",
        "- Use decisions to guard bounds and to skip the center cell.\n",
        "- Provide 2–3 `assert` tests.\n"
      ]
    },
    {
      "cell_type": "code",
      "execution_count": null,
      "id": "daf5f519",
      "metadata": {
        "id": "daf5f519"
      },
      "outputs": [],
      "source": [
        "# your code here"
      ]
    },
    {
      "cell_type": "markdown",
      "id": "ecba85ff",
      "metadata": {
        "id": "ecba85ff"
      },
      "source": [
        "\n",
        "## Program 5 — Receipt Parser (While + Try/Except + Decisions)\n",
        "\n",
        "**Write:** `receipt_total()` that repeatedly reads lines like `item,quantity,price` until the user types `'done'`.  \n",
        "- Validate that `quantity` is an integer and `price` is a float.  \n",
        "- Accumulate a subtotal and print a formatted receipt at the end.  \n",
        "- Ignore malformed lines (warn and continue).\n",
        "\n",
        "**Example input:**\n",
        "```\n",
        "apple,2,1.25\n",
        "banana,3,0.60\n",
        "done\n",
        "```\n",
        "**Output end line:**\n",
        "```\n",
        "Items: 2  Units: 5  Subtotal: $3.65\n",
        "```\n"
      ]
    },
    {
      "cell_type": "code",
      "execution_count": null,
      "id": "a2880a4b",
      "metadata": {
        "id": "a2880a4b"
      },
      "outputs": [],
      "source": [
        "# your code here"
      ]
    },
    {
      "cell_type": "markdown",
      "id": "96844e4c",
      "metadata": {
        "id": "96844e4c"
      },
      "source": [
        "\n",
        "## Optional Challenge — Prime Gaps (For + Decisions)\n",
        "\n",
        "Write `is_prime(n: int) -> bool` and then `max_gap(a: int, b: int) -> tuple[int,int,int]` that returns `(p, q, gap)` where `p` and `q` are consecutive primes in `[a, b]` with the **largest** gap.\n",
        "\n",
        "- Use **for** loops and decisions; keep it simple and readable.\n",
        "- Add 2–3 `assert` tests.\n"
      ]
    },
    {
      "cell_type": "markdown",
      "id": "4eddd5e9",
      "metadata": {
        "id": "4eddd5e9"
      },
      "source": [
        "\n",
        "## Submission Checklist\n",
        "- [ ] I used `while` and/or `for` appropriately for each task.\n",
        "- [ ] I validated user input with `try/except` where required.\n",
        "- [ ] I used clear names, docstrings, and helpful comments.\n",
        "- [ ] I kept lines ≤ 79–99 chars and used proper whitespace.\n",
        "- [ ] I added a few `assert` tests where appropriate.\n"
      ]
    },
    {
      "cell_type": "markdown",
      "id": "96a91da6",
      "metadata": {
        "id": "96a91da6"
      },
      "source": [
        "\n",
        "## Grading Rubric (25 pts)\n",
        "\n",
        "| Criterion | Points |\n",
        "|---|---:|\n",
        "| Program 1 — Stats loop (correctness + validation + clarity) | 6 |\n",
        "| Program 2 — Password attempts (logic + decisions + clarity) | 5 |\n",
        "| Program 3 — Collatz analyzer (while + for + validation) | 6 |\n",
        "| Program 4 — Grid count (nested loops + tests) | 5 |\n",
        "| Overall PEP 8 style & explanations | 3 |\n"
      ]
    }
  ],
  "metadata": {
    "colab": {
      "provenance": []
    },
    "language_info": {
      "name": "python"
    },
    "kernelspec": {
      "name": "python3",
      "display_name": "Python 3"
    }
  },
  "nbformat": 4,
  "nbformat_minor": 5
}